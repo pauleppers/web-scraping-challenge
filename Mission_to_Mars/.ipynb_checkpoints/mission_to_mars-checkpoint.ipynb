{
 "cells": [
  {
   "cell_type": "code",
   "execution_count": null,
   "metadata": {},
   "outputs": [],
   "source": [
    "# import dependencies\n",
    "import pymongo\n",
    "import requests\n",
    "from bs4 import BeautifulSoup\n",
    "from splinter import Browser\n",
    "import pandas as pd\n",
    "import time\n"
   ]
  },
  {
   "cell_type": "code",
   "execution_count": 2,
   "metadata": {},
   "outputs": [],
   "source": [
    "# connections to mongo db saving\n",
    "#  !!! need to run mongo in terminal  !!!!!\n",
    "# conn = 'mongodb://localhost:27017'\n",
    "# client = pymongo.MongoClient(conn)   # Define the 'classDB' database in Mongo\n",
    "\n",
    "# # Here, db.students refers to the collection 'classroom '\n",
    "# db = client.mars_db   # create mars database assign to db if doesn't exist, make connection\n",
    "# collection = db.mars_coll  # assign collection to collection called articles,  called articles"
   ]
  },
  {
   "cell_type": "code",
   "execution_count": 3,
   "metadata": {},
   "outputs": [],
   "source": [
    "### 1. NASA Mars News\n",
    "# Windows Chrome Browser for use with Splinter/ webpage does not load properly without\n",
    "executable_path = {'executable_path': 'chromedriver.exe'}  # will see a new chrome browser\n",
    "browser = Browser('chrome', **executable_path, headless=False)\n",
    "url='https://mars.nasa.gov/news/'\n",
    "\n",
    "try:\n",
    "    # Retrieve page with the requests module\n",
    "    browser.visit(url)\n",
    "    response = browser.html\n",
    "\n",
    "    # loup through boutiful soup results, parse articles, make dictionary and enter into database\n",
    "    soup = BeautifulSoup(response, 'html.parser')\n",
    "    mars_news = soup.find('div', class_= \"list_text\")  #  class_=\"content_title\")\n",
    "    mars_news = mars_news.a.text\n",
    "    news_p = soup.find('div', class_=\"article_teaser_body\")\n",
    "except:\n",
    "    time.sleep(5)\n",
    "    browser.visit(url)\n",
    "    response = browser.html\n",
    "\n",
    "    # loup through boutiful soup results, parse articles, make dictionary and enter into database\n",
    "    soup = BeautifulSoup(response, 'html.parser')\n",
    "    mars_news = soup.find('div', class_= \"list_text\")  #  class_=\"content_title\")\n",
    "    mars_news = mars_news.a.text\n",
    "    news_p = soup.find('div', class_=\"article_teaser_body\")\n",
    "    print('Exception one')\n",
    "     \n",
    "news_p = news_p.text\n",
    "mars_dict = {'title':mars_news,\n",
    "               'paragraph':news_p}"
   ]
  },
  {
   "cell_type": "code",
   "execution_count": 4,
   "metadata": {},
   "outputs": [
    {
     "data": {
      "text/plain": [
       "{'title': 'MOXIE Could Help Future Rockets Launch Off Mars',\n",
       " 'paragraph': \"NASA's Perseverance rover carries a device to convert Martian air into oxygen that, if produced on a larger scale, could be used not just for breathing, but also for fuel.\"}"
      ]
     },
     "execution_count": 4,
     "metadata": {},
     "output_type": "execute_result"
    }
   ],
   "source": [
    "mars_dict"
   ]
  },
  {
   "cell_type": "code",
   "execution_count": 5,
   "metadata": {},
   "outputs": [],
   "source": [
    "### 2. JPL Mars Space Images - Featured Image\n",
    "url = 'https://www.jpl.nasa.gov/spaceimages/?search=&category=Mars'\n",
    "\n",
    "# use Splinter go to website and copy html text\n",
    "browser.visit(url)\n"
   ]
  },
  {
   "cell_type": "code",
   "execution_count": 6,
   "metadata": {},
   "outputs": [],
   "source": [
    "# Click thru the websites to get to large Size image\n",
    "browser.links.find_by_partial_text('FULL IMAGE').click()\n",
    "browser.links.find_by_partial_text('more info').click()"
   ]
  },
  {
   "cell_type": "code",
   "execution_count": 7,
   "metadata": {},
   "outputs": [
    {
     "name": "stdout",
     "output_type": "stream",
     "text": [
      "https://www.jpl.nasa.gov/spaceimages/images/largesize/PIA19101_hires.jpg\n"
     ]
    }
   ],
   "source": [
    "response = browser.html\n",
    "soup = BeautifulSoup(response, 'html.parser')\n",
    "results = soup.find('figure')\n",
    "feature_link = results.a['href']\n",
    "featured_image_url = f'https://www.jpl.nasa.gov{feature_link}'\n",
    "print(featured_image_url)\n",
    "mars_dict.update({\"featured_image_url\" : featured_image_url})"
   ]
  },
  {
   "cell_type": "code",
   "execution_count": 8,
   "metadata": {},
   "outputs": [
    {
     "data": {
      "text/html": [
       "<div>\n",
       "<style scoped>\n",
       "    .dataframe tbody tr th:only-of-type {\n",
       "        vertical-align: middle;\n",
       "    }\n",
       "\n",
       "    .dataframe tbody tr th {\n",
       "        vertical-align: top;\n",
       "    }\n",
       "\n",
       "    .dataframe thead th {\n",
       "        text-align: right;\n",
       "    }\n",
       "</style>\n",
       "<table border=\"1\" class=\"dataframe\">\n",
       "  <thead>\n",
       "    <tr style=\"text-align: right;\">\n",
       "      <th></th>\n",
       "      <th>Mars</th>\n",
       "    </tr>\n",
       "    <tr>\n",
       "      <th>Description</th>\n",
       "      <th></th>\n",
       "    </tr>\n",
       "  </thead>\n",
       "  <tbody>\n",
       "    <tr>\n",
       "      <th>Equatorial Diameter:</th>\n",
       "      <td>6,792 km</td>\n",
       "    </tr>\n",
       "    <tr>\n",
       "      <th>Polar Diameter:</th>\n",
       "      <td>6,752 km</td>\n",
       "    </tr>\n",
       "    <tr>\n",
       "      <th>Mass:</th>\n",
       "      <td>6.39 × 10^23 kg (0.11 Earths)</td>\n",
       "    </tr>\n",
       "    <tr>\n",
       "      <th>Moons:</th>\n",
       "      <td>2 (Phobos &amp; Deimos)</td>\n",
       "    </tr>\n",
       "    <tr>\n",
       "      <th>Orbit Distance:</th>\n",
       "      <td>227,943,824 km (1.38 AU)</td>\n",
       "    </tr>\n",
       "    <tr>\n",
       "      <th>Orbit Period:</th>\n",
       "      <td>687 days (1.9 years)</td>\n",
       "    </tr>\n",
       "    <tr>\n",
       "      <th>Surface Temperature:</th>\n",
       "      <td>-87 to -5 °C</td>\n",
       "    </tr>\n",
       "    <tr>\n",
       "      <th>First Record:</th>\n",
       "      <td>2nd millennium BC</td>\n",
       "    </tr>\n",
       "    <tr>\n",
       "      <th>Recorded By:</th>\n",
       "      <td>Egyptian astronomers</td>\n",
       "    </tr>\n",
       "  </tbody>\n",
       "</table>\n",
       "</div>"
      ],
      "text/plain": [
       "                                               Mars\n",
       "Description                                        \n",
       "Equatorial Diameter:                       6,792 km\n",
       "Polar Diameter:                            6,752 km\n",
       "Mass:                 6.39 × 10^23 kg (0.11 Earths)\n",
       "Moons:                          2 (Phobos & Deimos)\n",
       "Orbit Distance:            227,943,824 km (1.38 AU)\n",
       "Orbit Period:                  687 days (1.9 years)\n",
       "Surface Temperature:                   -87 to -5 °C\n",
       "First Record:                     2nd millennium BC\n",
       "Recorded By:                   Egyptian astronomers"
      ]
     },
     "execution_count": 8,
     "metadata": {},
     "output_type": "execute_result"
    }
   ],
   "source": [
    "### 3. Mars Facts\n",
    "# use Pandas to scrape the table containing facts about the planet including Diameter, Mass, etc.\n",
    "url = 'https://space-facts.com/mars/'\n",
    "tables = pd.read_html(url, index_col=0)\n",
    "tables\n",
    "specs = tables[0]\n",
    "specs = specs.rename(columns={1:'Mars'})\n",
    "specs.index.names = ['Description']\n",
    "\n",
    "# Use Pandas to convert the data to a HTML table string.\n",
    "mars_spec_table = specs.to_html()\n",
    "mars_dict.update({\"Mars_Table\" : mars_spec_table})\n",
    "specs"
   ]
  },
  {
   "cell_type": "code",
   "execution_count": 9,
   "metadata": {},
   "outputs": [],
   "source": [
    "### 4. Mars Hemispheres\n",
    "url = 'https://astrogeology.usgs.gov/search/results?q=hemisphere+enhanced&k1=target&v1=Mars'\n",
    "browser.visit(url)\n",
    "response = browser.html\n",
    "soup = BeautifulSoup(response, 'html.parser')"
   ]
  },
  {
   "cell_type": "code",
   "execution_count": 10,
   "metadata": {},
   "outputs": [
    {
     "name": "stdout",
     "output_type": "stream",
     "text": [
      "['Cerberus Hemisphere Enhanced', 'Schiaparelli Hemisphere Enhanced', 'Syrtis Major Hemisphere Enhanced', 'Valles Marineris Hemisphere Enhanced']\n"
     ]
    }
   ],
   "source": [
    "# find the titles on the 4 mars hemispheres that will be used\n",
    "\n",
    "titles = soup.find_all('h3')\n",
    "title_list = []\n",
    "\n",
    "for title in titles:\n",
    "    title_list.append(title.text)\n",
    "#     print(title.text)\n",
    "print(title_list)"
   ]
  },
  {
   "cell_type": "code",
   "execution_count": 11,
   "metadata": {},
   "outputs": [],
   "source": [
    "# Go to usgs and find the 4 hemispheres of mars, using Splinger's Browser\n",
    "# by clicking thru the pages. Store the titles and the image in the dictionary.\n",
    "hemisphere_image_urls = {}\n",
    "list_hem = []\n",
    "\n",
    "# loop thru the titles, click on the link to go to page, and scrape the image\n",
    "for title in title_list:\n",
    "    browser.links.find_by_partial_text(title).click()\n",
    "    response = browser.html\n",
    "    soup = BeautifulSoup(response, 'html.parser')\n",
    "    results = soup.find('li')  \n",
    "    imag_url = results.a['href']\n",
    "    \n",
    "    # go back to orginal page\n",
    "    url = 'https://astrogeology.usgs.gov/search/results?q=hemisphere+enhanced&k1=target&v1=Mars'\n",
    "    browser.visit(url)\n",
    "    response = browser.html\n",
    "    \n",
    "    # add title and image to dictionary then add it to the list\n",
    "    hemisphere_image_urls.update({\"title\":title,\"img_url\":imag_url})\n",
    "    list_hem.append(dict(hemisphere_image_urls))\n",
    "    \n",
    "mars_dict.update({\"hemisphere_image_urls\" : list_hem})"
   ]
  },
  {
   "cell_type": "code",
   "execution_count": 12,
   "metadata": {},
   "outputs": [],
   "source": [
    "# mars_dict.update({\"hemisphere_image_urls\" : list})\n",
    "mars_dict.update({\"hemisphere_image_urls\" : list_hem})"
   ]
  },
  {
   "cell_type": "code",
   "execution_count": 13,
   "metadata": {},
   "outputs": [
    {
     "name": "stderr",
     "output_type": "stream",
     "text": [
      "C:\\Users\\paule\\anaconda3\\envs\\PythonData\\lib\\site-packages\\ipykernel_launcher.py:2: DeprecationWarning: update is deprecated. Use replace_one, update_one or update_many instead.\n",
      "  \n"
     ]
    },
    {
     "data": {
      "text/plain": [
       "{'n': 1, 'nModified': 1, 'ok': 1.0, 'updatedExisting': True}"
      ]
     },
     "execution_count": 13,
     "metadata": {},
     "output_type": "execute_result"
    }
   ],
   "source": [
    "# Update Data Base with new data in dictionary\n",
    "collection.update({}, mars_dict, upsert=True)  # update database\n"
   ]
  },
  {
   "cell_type": "code",
   "execution_count": null,
   "metadata": {},
   "outputs": [],
   "source": []
  }
 ],
 "metadata": {
  "kernelspec": {
   "display_name": "Python [conda env:PythonData] *",
   "language": "python",
   "name": "conda-env-PythonData-py"
  },
  "language_info": {
   "codemirror_mode": {
    "name": "ipython",
    "version": 3
   },
   "file_extension": ".py",
   "mimetype": "text/x-python",
   "name": "python",
   "nbconvert_exporter": "python",
   "pygments_lexer": "ipython3",
   "version": "3.6.10"
  }
 },
 "nbformat": 4,
 "nbformat_minor": 1
}
